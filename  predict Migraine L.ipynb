{
 "cells": [
  {
   "cell_type": "markdown",
   "id": "f4df5ac2",
   "metadata": {},
   "source": [
    "# Import Libraries"
   ]
  },
  {
   "cell_type": "code",
   "execution_count": 1,
   "id": "d12d681f",
   "metadata": {},
   "outputs": [],
   "source": [
    "import numpy as np\n",
    "import pandas as pd\n",
    "from imblearn.over_sampling import SMOTE\n",
    "from imblearn.over_sampling import RandomOverSampler\n",
    "from imblearn.under_sampling import NearMiss\n",
    "from sklearn.model_selection import train_test_split\n",
    "from sklearn.linear_model import LogisticRegression\n",
    "from sklearn.model_selection import cross_val_score\n",
    "from sklearn.model_selection import cross_val_predict\n",
    "from sklearn.model_selection import KFold\n",
    "from sklearn.model_selection import StratifiedKFold\n",
    "from sklearn.metrics import accuracy_score,confusion_matrix\n",
    "from collections import Counter"
   ]
  },
  {
   "cell_type": "markdown",
   "id": "453c9ed6",
   "metadata": {},
   "source": [
    "# Read the dataset"
   ]
  },
  {
   "cell_type": "code",
   "execution_count": 2,
   "id": "a4482c89",
   "metadata": {},
   "outputs": [],
   "source": [
    "data=pd.read_csv(r\"C:\\Users\\akshi\\Documents\\data set\\Migraine Data.csv\")"
   ]
  },
  {
   "cell_type": "code",
   "execution_count": 3,
   "id": "4f968b89",
   "metadata": {
    "scrolled": true
   },
   "outputs": [
    {
     "data": {
      "text/html": [
       "<div>\n",
       "<style scoped>\n",
       "    .dataframe tbody tr th:only-of-type {\n",
       "        vertical-align: middle;\n",
       "    }\n",
       "\n",
       "    .dataframe tbody tr th {\n",
       "        vertical-align: top;\n",
       "    }\n",
       "\n",
       "    .dataframe thead th {\n",
       "        text-align: right;\n",
       "    }\n",
       "</style>\n",
       "<table border=\"1\" class=\"dataframe\">\n",
       "  <thead>\n",
       "    <tr style=\"text-align: right;\">\n",
       "      <th></th>\n",
       "      <th>Age</th>\n",
       "      <th>Duration</th>\n",
       "      <th>Frequency</th>\n",
       "      <th>Location</th>\n",
       "      <th>Character</th>\n",
       "      <th>Intensity</th>\n",
       "      <th>Nausea</th>\n",
       "      <th>Vomit</th>\n",
       "      <th>Phonophobia</th>\n",
       "      <th>Photophobia</th>\n",
       "      <th>...</th>\n",
       "      <th>Vertigo</th>\n",
       "      <th>Tinnitus</th>\n",
       "      <th>Hypoacusis</th>\n",
       "      <th>Diplopia</th>\n",
       "      <th>Defect</th>\n",
       "      <th>Ataxia</th>\n",
       "      <th>Conscience</th>\n",
       "      <th>Paresthesia</th>\n",
       "      <th>DPF</th>\n",
       "      <th>Type</th>\n",
       "    </tr>\n",
       "  </thead>\n",
       "  <tbody>\n",
       "    <tr>\n",
       "      <th>0</th>\n",
       "      <td>30</td>\n",
       "      <td>1</td>\n",
       "      <td>5</td>\n",
       "      <td>1</td>\n",
       "      <td>1</td>\n",
       "      <td>2</td>\n",
       "      <td>1</td>\n",
       "      <td>0</td>\n",
       "      <td>1</td>\n",
       "      <td>1</td>\n",
       "      <td>...</td>\n",
       "      <td>0</td>\n",
       "      <td>0</td>\n",
       "      <td>0</td>\n",
       "      <td>0</td>\n",
       "      <td>0</td>\n",
       "      <td>0</td>\n",
       "      <td>0</td>\n",
       "      <td>0</td>\n",
       "      <td>0</td>\n",
       "      <td>Typical aura with migraine</td>\n",
       "    </tr>\n",
       "    <tr>\n",
       "      <th>1</th>\n",
       "      <td>50</td>\n",
       "      <td>3</td>\n",
       "      <td>5</td>\n",
       "      <td>1</td>\n",
       "      <td>1</td>\n",
       "      <td>3</td>\n",
       "      <td>1</td>\n",
       "      <td>1</td>\n",
       "      <td>1</td>\n",
       "      <td>1</td>\n",
       "      <td>...</td>\n",
       "      <td>1</td>\n",
       "      <td>0</td>\n",
       "      <td>0</td>\n",
       "      <td>0</td>\n",
       "      <td>0</td>\n",
       "      <td>0</td>\n",
       "      <td>0</td>\n",
       "      <td>0</td>\n",
       "      <td>0</td>\n",
       "      <td>Typical aura with migraine</td>\n",
       "    </tr>\n",
       "    <tr>\n",
       "      <th>2</th>\n",
       "      <td>53</td>\n",
       "      <td>2</td>\n",
       "      <td>1</td>\n",
       "      <td>1</td>\n",
       "      <td>1</td>\n",
       "      <td>2</td>\n",
       "      <td>1</td>\n",
       "      <td>1</td>\n",
       "      <td>1</td>\n",
       "      <td>1</td>\n",
       "      <td>...</td>\n",
       "      <td>0</td>\n",
       "      <td>0</td>\n",
       "      <td>0</td>\n",
       "      <td>0</td>\n",
       "      <td>0</td>\n",
       "      <td>0</td>\n",
       "      <td>0</td>\n",
       "      <td>0</td>\n",
       "      <td>0</td>\n",
       "      <td>Typical aura with migraine</td>\n",
       "    </tr>\n",
       "    <tr>\n",
       "      <th>3</th>\n",
       "      <td>45</td>\n",
       "      <td>3</td>\n",
       "      <td>5</td>\n",
       "      <td>1</td>\n",
       "      <td>1</td>\n",
       "      <td>3</td>\n",
       "      <td>1</td>\n",
       "      <td>0</td>\n",
       "      <td>1</td>\n",
       "      <td>1</td>\n",
       "      <td>...</td>\n",
       "      <td>1</td>\n",
       "      <td>0</td>\n",
       "      <td>0</td>\n",
       "      <td>0</td>\n",
       "      <td>0</td>\n",
       "      <td>0</td>\n",
       "      <td>0</td>\n",
       "      <td>0</td>\n",
       "      <td>0</td>\n",
       "      <td>Typical aura with migraine</td>\n",
       "    </tr>\n",
       "    <tr>\n",
       "      <th>4</th>\n",
       "      <td>53</td>\n",
       "      <td>1</td>\n",
       "      <td>1</td>\n",
       "      <td>1</td>\n",
       "      <td>1</td>\n",
       "      <td>2</td>\n",
       "      <td>1</td>\n",
       "      <td>0</td>\n",
       "      <td>1</td>\n",
       "      <td>1</td>\n",
       "      <td>...</td>\n",
       "      <td>0</td>\n",
       "      <td>0</td>\n",
       "      <td>0</td>\n",
       "      <td>0</td>\n",
       "      <td>0</td>\n",
       "      <td>0</td>\n",
       "      <td>0</td>\n",
       "      <td>0</td>\n",
       "      <td>1</td>\n",
       "      <td>Typical aura with migraine</td>\n",
       "    </tr>\n",
       "  </tbody>\n",
       "</table>\n",
       "<p>5 rows × 24 columns</p>\n",
       "</div>"
      ],
      "text/plain": [
       "   Age  Duration  Frequency  Location  Character  Intensity  Nausea  Vomit  \\\n",
       "0   30         1          5         1          1          2       1      0   \n",
       "1   50         3          5         1          1          3       1      1   \n",
       "2   53         2          1         1          1          2       1      1   \n",
       "3   45         3          5         1          1          3       1      0   \n",
       "4   53         1          1         1          1          2       1      0   \n",
       "\n",
       "   Phonophobia  Photophobia  ...  Vertigo  Tinnitus  Hypoacusis  Diplopia  \\\n",
       "0            1            1  ...        0         0           0         0   \n",
       "1            1            1  ...        1         0           0         0   \n",
       "2            1            1  ...        0         0           0         0   \n",
       "3            1            1  ...        1         0           0         0   \n",
       "4            1            1  ...        0         0           0         0   \n",
       "\n",
       "   Defect  Ataxia  Conscience  Paresthesia  DPF                        Type  \n",
       "0       0       0           0            0    0  Typical aura with migraine  \n",
       "1       0       0           0            0    0  Typical aura with migraine  \n",
       "2       0       0           0            0    0  Typical aura with migraine  \n",
       "3       0       0           0            0    0  Typical aura with migraine  \n",
       "4       0       0           0            0    1  Typical aura with migraine  \n",
       "\n",
       "[5 rows x 24 columns]"
      ]
     },
     "execution_count": 3,
     "metadata": {},
     "output_type": "execute_result"
    }
   ],
   "source": [
    "data.head()"
   ]
  },
  {
   "cell_type": "markdown",
   "id": "4ddfb0ca",
   "metadata": {},
   "source": [
    "# Check data type "
   ]
  },
  {
   "cell_type": "code",
   "execution_count": 4,
   "id": "d074c72c",
   "metadata": {},
   "outputs": [
    {
     "name": "stdout",
     "output_type": "stream",
     "text": [
      "<class 'pandas.core.frame.DataFrame'>\n",
      "RangeIndex: 400 entries, 0 to 399\n",
      "Data columns (total 24 columns):\n",
      " #   Column       Non-Null Count  Dtype \n",
      "---  ------       --------------  ----- \n",
      " 0   Age          400 non-null    int64 \n",
      " 1   Duration     400 non-null    int64 \n",
      " 2   Frequency    400 non-null    int64 \n",
      " 3   Location     400 non-null    int64 \n",
      " 4   Character    400 non-null    int64 \n",
      " 5   Intensity    400 non-null    int64 \n",
      " 6   Nausea       400 non-null    int64 \n",
      " 7   Vomit        400 non-null    int64 \n",
      " 8   Phonophobia  400 non-null    int64 \n",
      " 9   Photophobia  400 non-null    int64 \n",
      " 10  Visual       400 non-null    int64 \n",
      " 11  Sensory      400 non-null    int64 \n",
      " 12  Dysphasia    400 non-null    int64 \n",
      " 13  Dysarthria   400 non-null    int64 \n",
      " 14  Vertigo      400 non-null    int64 \n",
      " 15  Tinnitus     400 non-null    int64 \n",
      " 16  Hypoacusis   400 non-null    int64 \n",
      " 17  Diplopia     400 non-null    int64 \n",
      " 18  Defect       400 non-null    int64 \n",
      " 19  Ataxia       400 non-null    int64 \n",
      " 20  Conscience   400 non-null    int64 \n",
      " 21  Paresthesia  400 non-null    int64 \n",
      " 22  DPF          400 non-null    int64 \n",
      " 23  Type         400 non-null    object\n",
      "dtypes: int64(23), object(1)\n",
      "memory usage: 75.1+ KB\n"
     ]
    }
   ],
   "source": [
    "data.info()"
   ]
  },
  {
   "cell_type": "markdown",
   "id": "8c707854",
   "metadata": {},
   "source": [
    "# check the categories in the ( Dependent variable ) (Type) variable "
   ]
  },
  {
   "cell_type": "code",
   "execution_count": 5,
   "id": "afd6aa1f",
   "metadata": {},
   "outputs": [
    {
     "data": {
      "text/plain": [
       "array(['Typical aura with migraine', 'Migraine without aura',\n",
       "       'Basilar-type aura', 'Sporadic hemiplegic migraine',\n",
       "       'Familial hemiplegic migraine', 'Other',\n",
       "       'Typical aura without migraine'], dtype=object)"
      ]
     },
     "execution_count": 5,
     "metadata": {},
     "output_type": "execute_result"
    }
   ],
   "source": [
    "data[\"Type\"].unique()"
   ]
  },
  {
   "cell_type": "markdown",
   "id": "4f62a87e",
   "metadata": {},
   "source": [
    "# Lable Encoding "
   ]
  },
  {
   "cell_type": "code",
   "execution_count": 6,
   "id": "7696fd25",
   "metadata": {},
   "outputs": [],
   "source": [
    "from sklearn.preprocessing import LabelEncoder\n",
    "l=LabelEncoder()\n",
    "data[\"Type\"]=l.fit_transform(data[\"Type\"])"
   ]
  },
  {
   "cell_type": "markdown",
   "id": "4f7d51e7",
   "metadata": {},
   "source": [
    "# Split the given data"
   ]
  },
  {
   "cell_type": "code",
   "execution_count": 7,
   "id": "cebf391b",
   "metadata": {},
   "outputs": [],
   "source": [
    "x=data.iloc[:,:-1]\n",
    "y=data.iloc[:,-1] "
   ]
  },
  {
   "cell_type": "code",
   "execution_count": 8,
   "id": "75a0f10b",
   "metadata": {},
   "outputs": [
    {
     "name": "stdout",
     "output_type": "stream",
     "text": [
      "Counter({5: 247, 2: 60, 1: 24, 6: 20, 0: 18, 3: 17, 4: 14})\n"
     ]
    }
   ],
   "source": [
    "from collections import Counter\n",
    "print(Counter(y))"
   ]
  },
  {
   "cell_type": "code",
   "execution_count": 9,
   "id": "25d7bfb4",
   "metadata": {},
   "outputs": [
    {
     "data": {
      "text/html": [
       "<div>\n",
       "<style scoped>\n",
       "    .dataframe tbody tr th:only-of-type {\n",
       "        vertical-align: middle;\n",
       "    }\n",
       "\n",
       "    .dataframe tbody tr th {\n",
       "        vertical-align: top;\n",
       "    }\n",
       "\n",
       "    .dataframe thead th {\n",
       "        text-align: right;\n",
       "    }\n",
       "</style>\n",
       "<table border=\"1\" class=\"dataframe\">\n",
       "  <thead>\n",
       "    <tr style=\"text-align: right;\">\n",
       "      <th></th>\n",
       "      <th>Age</th>\n",
       "      <th>Duration</th>\n",
       "      <th>Frequency</th>\n",
       "      <th>Location</th>\n",
       "      <th>Character</th>\n",
       "      <th>Intensity</th>\n",
       "      <th>Nausea</th>\n",
       "      <th>Vomit</th>\n",
       "      <th>Phonophobia</th>\n",
       "      <th>Photophobia</th>\n",
       "      <th>...</th>\n",
       "      <th>Vertigo</th>\n",
       "      <th>Tinnitus</th>\n",
       "      <th>Hypoacusis</th>\n",
       "      <th>Diplopia</th>\n",
       "      <th>Defect</th>\n",
       "      <th>Ataxia</th>\n",
       "      <th>Conscience</th>\n",
       "      <th>Paresthesia</th>\n",
       "      <th>DPF</th>\n",
       "      <th>Type</th>\n",
       "    </tr>\n",
       "  </thead>\n",
       "  <tbody>\n",
       "    <tr>\n",
       "      <th>count</th>\n",
       "      <td>400.000000</td>\n",
       "      <td>400.000000</td>\n",
       "      <td>400.000000</td>\n",
       "      <td>400.000000</td>\n",
       "      <td>400.000000</td>\n",
       "      <td>400.00000</td>\n",
       "      <td>400.000000</td>\n",
       "      <td>400.000000</td>\n",
       "      <td>400.000000</td>\n",
       "      <td>400.000000</td>\n",
       "      <td>...</td>\n",
       "      <td>400.000000</td>\n",
       "      <td>400.000000</td>\n",
       "      <td>400.000000</td>\n",
       "      <td>400.000000</td>\n",
       "      <td>400.000000</td>\n",
       "      <td>400.0</td>\n",
       "      <td>400.000000</td>\n",
       "      <td>400.000000</td>\n",
       "      <td>400.000000</td>\n",
       "      <td>400.000000</td>\n",
       "    </tr>\n",
       "    <tr>\n",
       "      <th>mean</th>\n",
       "      <td>31.705000</td>\n",
       "      <td>1.610000</td>\n",
       "      <td>2.365000</td>\n",
       "      <td>0.972500</td>\n",
       "      <td>0.977500</td>\n",
       "      <td>2.47000</td>\n",
       "      <td>0.987500</td>\n",
       "      <td>0.322500</td>\n",
       "      <td>0.977500</td>\n",
       "      <td>0.980000</td>\n",
       "      <td>...</td>\n",
       "      <td>0.125000</td>\n",
       "      <td>0.060000</td>\n",
       "      <td>0.015000</td>\n",
       "      <td>0.005000</td>\n",
       "      <td>0.015000</td>\n",
       "      <td>0.0</td>\n",
       "      <td>0.017500</td>\n",
       "      <td>0.007500</td>\n",
       "      <td>0.410000</td>\n",
       "      <td>4.015000</td>\n",
       "    </tr>\n",
       "    <tr>\n",
       "      <th>std</th>\n",
       "      <td>12.139043</td>\n",
       "      <td>0.770964</td>\n",
       "      <td>1.675947</td>\n",
       "      <td>0.268186</td>\n",
       "      <td>0.277825</td>\n",
       "      <td>0.76849</td>\n",
       "      <td>0.111242</td>\n",
       "      <td>0.468019</td>\n",
       "      <td>0.148489</td>\n",
       "      <td>0.140175</td>\n",
       "      <td>...</td>\n",
       "      <td>0.331133</td>\n",
       "      <td>0.237784</td>\n",
       "      <td>0.121705</td>\n",
       "      <td>0.070622</td>\n",
       "      <td>0.121705</td>\n",
       "      <td>0.0</td>\n",
       "      <td>0.131289</td>\n",
       "      <td>0.086385</td>\n",
       "      <td>0.492449</td>\n",
       "      <td>1.651239</td>\n",
       "    </tr>\n",
       "    <tr>\n",
       "      <th>min</th>\n",
       "      <td>15.000000</td>\n",
       "      <td>1.000000</td>\n",
       "      <td>1.000000</td>\n",
       "      <td>0.000000</td>\n",
       "      <td>0.000000</td>\n",
       "      <td>0.00000</td>\n",
       "      <td>0.000000</td>\n",
       "      <td>0.000000</td>\n",
       "      <td>0.000000</td>\n",
       "      <td>0.000000</td>\n",
       "      <td>...</td>\n",
       "      <td>0.000000</td>\n",
       "      <td>0.000000</td>\n",
       "      <td>0.000000</td>\n",
       "      <td>0.000000</td>\n",
       "      <td>0.000000</td>\n",
       "      <td>0.0</td>\n",
       "      <td>0.000000</td>\n",
       "      <td>0.000000</td>\n",
       "      <td>0.000000</td>\n",
       "      <td>0.000000</td>\n",
       "    </tr>\n",
       "    <tr>\n",
       "      <th>25%</th>\n",
       "      <td>22.000000</td>\n",
       "      <td>1.000000</td>\n",
       "      <td>1.000000</td>\n",
       "      <td>1.000000</td>\n",
       "      <td>1.000000</td>\n",
       "      <td>2.00000</td>\n",
       "      <td>1.000000</td>\n",
       "      <td>0.000000</td>\n",
       "      <td>1.000000</td>\n",
       "      <td>1.000000</td>\n",
       "      <td>...</td>\n",
       "      <td>0.000000</td>\n",
       "      <td>0.000000</td>\n",
       "      <td>0.000000</td>\n",
       "      <td>0.000000</td>\n",
       "      <td>0.000000</td>\n",
       "      <td>0.0</td>\n",
       "      <td>0.000000</td>\n",
       "      <td>0.000000</td>\n",
       "      <td>0.000000</td>\n",
       "      <td>2.000000</td>\n",
       "    </tr>\n",
       "    <tr>\n",
       "      <th>50%</th>\n",
       "      <td>28.000000</td>\n",
       "      <td>1.000000</td>\n",
       "      <td>2.000000</td>\n",
       "      <td>1.000000</td>\n",
       "      <td>1.000000</td>\n",
       "      <td>3.00000</td>\n",
       "      <td>1.000000</td>\n",
       "      <td>0.000000</td>\n",
       "      <td>1.000000</td>\n",
       "      <td>1.000000</td>\n",
       "      <td>...</td>\n",
       "      <td>0.000000</td>\n",
       "      <td>0.000000</td>\n",
       "      <td>0.000000</td>\n",
       "      <td>0.000000</td>\n",
       "      <td>0.000000</td>\n",
       "      <td>0.0</td>\n",
       "      <td>0.000000</td>\n",
       "      <td>0.000000</td>\n",
       "      <td>0.000000</td>\n",
       "      <td>5.000000</td>\n",
       "    </tr>\n",
       "    <tr>\n",
       "      <th>75%</th>\n",
       "      <td>40.000000</td>\n",
       "      <td>2.000000</td>\n",
       "      <td>4.000000</td>\n",
       "      <td>1.000000</td>\n",
       "      <td>1.000000</td>\n",
       "      <td>3.00000</td>\n",
       "      <td>1.000000</td>\n",
       "      <td>1.000000</td>\n",
       "      <td>1.000000</td>\n",
       "      <td>1.000000</td>\n",
       "      <td>...</td>\n",
       "      <td>0.000000</td>\n",
       "      <td>0.000000</td>\n",
       "      <td>0.000000</td>\n",
       "      <td>0.000000</td>\n",
       "      <td>0.000000</td>\n",
       "      <td>0.0</td>\n",
       "      <td>0.000000</td>\n",
       "      <td>0.000000</td>\n",
       "      <td>1.000000</td>\n",
       "      <td>5.000000</td>\n",
       "    </tr>\n",
       "    <tr>\n",
       "      <th>max</th>\n",
       "      <td>77.000000</td>\n",
       "      <td>3.000000</td>\n",
       "      <td>8.000000</td>\n",
       "      <td>2.000000</td>\n",
       "      <td>2.000000</td>\n",
       "      <td>3.00000</td>\n",
       "      <td>1.000000</td>\n",
       "      <td>1.000000</td>\n",
       "      <td>1.000000</td>\n",
       "      <td>1.000000</td>\n",
       "      <td>...</td>\n",
       "      <td>1.000000</td>\n",
       "      <td>1.000000</td>\n",
       "      <td>1.000000</td>\n",
       "      <td>1.000000</td>\n",
       "      <td>1.000000</td>\n",
       "      <td>0.0</td>\n",
       "      <td>1.000000</td>\n",
       "      <td>1.000000</td>\n",
       "      <td>1.000000</td>\n",
       "      <td>6.000000</td>\n",
       "    </tr>\n",
       "  </tbody>\n",
       "</table>\n",
       "<p>8 rows × 24 columns</p>\n",
       "</div>"
      ],
      "text/plain": [
       "              Age    Duration   Frequency    Location   Character  Intensity  \\\n",
       "count  400.000000  400.000000  400.000000  400.000000  400.000000  400.00000   \n",
       "mean    31.705000    1.610000    2.365000    0.972500    0.977500    2.47000   \n",
       "std     12.139043    0.770964    1.675947    0.268186    0.277825    0.76849   \n",
       "min     15.000000    1.000000    1.000000    0.000000    0.000000    0.00000   \n",
       "25%     22.000000    1.000000    1.000000    1.000000    1.000000    2.00000   \n",
       "50%     28.000000    1.000000    2.000000    1.000000    1.000000    3.00000   \n",
       "75%     40.000000    2.000000    4.000000    1.000000    1.000000    3.00000   \n",
       "max     77.000000    3.000000    8.000000    2.000000    2.000000    3.00000   \n",
       "\n",
       "           Nausea       Vomit  Phonophobia  Photophobia  ...     Vertigo  \\\n",
       "count  400.000000  400.000000   400.000000   400.000000  ...  400.000000   \n",
       "mean     0.987500    0.322500     0.977500     0.980000  ...    0.125000   \n",
       "std      0.111242    0.468019     0.148489     0.140175  ...    0.331133   \n",
       "min      0.000000    0.000000     0.000000     0.000000  ...    0.000000   \n",
       "25%      1.000000    0.000000     1.000000     1.000000  ...    0.000000   \n",
       "50%      1.000000    0.000000     1.000000     1.000000  ...    0.000000   \n",
       "75%      1.000000    1.000000     1.000000     1.000000  ...    0.000000   \n",
       "max      1.000000    1.000000     1.000000     1.000000  ...    1.000000   \n",
       "\n",
       "         Tinnitus  Hypoacusis    Diplopia      Defect  Ataxia  Conscience  \\\n",
       "count  400.000000  400.000000  400.000000  400.000000   400.0  400.000000   \n",
       "mean     0.060000    0.015000    0.005000    0.015000     0.0    0.017500   \n",
       "std      0.237784    0.121705    0.070622    0.121705     0.0    0.131289   \n",
       "min      0.000000    0.000000    0.000000    0.000000     0.0    0.000000   \n",
       "25%      0.000000    0.000000    0.000000    0.000000     0.0    0.000000   \n",
       "50%      0.000000    0.000000    0.000000    0.000000     0.0    0.000000   \n",
       "75%      0.000000    0.000000    0.000000    0.000000     0.0    0.000000   \n",
       "max      1.000000    1.000000    1.000000    1.000000     0.0    1.000000   \n",
       "\n",
       "       Paresthesia         DPF        Type  \n",
       "count   400.000000  400.000000  400.000000  \n",
       "mean      0.007500    0.410000    4.015000  \n",
       "std       0.086385    0.492449    1.651239  \n",
       "min       0.000000    0.000000    0.000000  \n",
       "25%       0.000000    0.000000    2.000000  \n",
       "50%       0.000000    0.000000    5.000000  \n",
       "75%       0.000000    1.000000    5.000000  \n",
       "max       1.000000    1.000000    6.000000  \n",
       "\n",
       "[8 rows x 24 columns]"
      ]
     },
     "execution_count": 9,
     "metadata": {},
     "output_type": "execute_result"
    }
   ],
   "source": [
    "data.describe()"
   ]
  },
  {
   "cell_type": "markdown",
   "id": "f5bc1a39",
   "metadata": {},
   "source": [
    "# Check the null values from the data"
   ]
  },
  {
   "cell_type": "code",
   "execution_count": 10,
   "id": "117ae538",
   "metadata": {},
   "outputs": [
    {
     "data": {
      "text/plain": [
       "Age            0\n",
       "Duration       0\n",
       "Frequency      0\n",
       "Location       0\n",
       "Character      0\n",
       "Intensity      0\n",
       "Nausea         0\n",
       "Vomit          0\n",
       "Phonophobia    0\n",
       "Photophobia    0\n",
       "Visual         0\n",
       "Sensory        0\n",
       "Dysphasia      0\n",
       "Dysarthria     0\n",
       "Vertigo        0\n",
       "Tinnitus       0\n",
       "Hypoacusis     0\n",
       "Diplopia       0\n",
       "Defect         0\n",
       "Ataxia         0\n",
       "Conscience     0\n",
       "Paresthesia    0\n",
       "DPF            0\n",
       "Type           0\n",
       "dtype: int64"
      ]
     },
     "execution_count": 10,
     "metadata": {},
     "output_type": "execute_result"
    }
   ],
   "source": [
    "data.isnull().sum()"
   ]
  },
  {
   "cell_type": "markdown",
   "id": "2019725e",
   "metadata": {},
   "source": [
    "# Uniqness in the features"
   ]
  },
  {
   "cell_type": "code",
   "execution_count": 11,
   "id": "86dfad54",
   "metadata": {},
   "outputs": [
    {
     "data": {
      "text/plain": [
       "Age            51\n",
       "Duration        3\n",
       "Frequency       8\n",
       "Location        3\n",
       "Character       3\n",
       "Intensity       4\n",
       "Nausea          2\n",
       "Vomit           2\n",
       "Phonophobia     2\n",
       "Photophobia     2\n",
       "Visual          5\n",
       "Sensory         3\n",
       "Dysphasia       2\n",
       "Dysarthria      2\n",
       "Vertigo         2\n",
       "Tinnitus        2\n",
       "Hypoacusis      2\n",
       "Diplopia        2\n",
       "Defect          2\n",
       "Ataxia          1\n",
       "Conscience      2\n",
       "Paresthesia     2\n",
       "DPF             2\n",
       "Type            7\n",
       "dtype: int64"
      ]
     },
     "execution_count": 11,
     "metadata": {},
     "output_type": "execute_result"
    }
   ],
   "source": [
    "data.nunique()"
   ]
  },
  {
   "cell_type": "markdown",
   "id": "edc0c601",
   "metadata": {},
   "source": [
    "# Check skewness of data "
   ]
  },
  {
   "cell_type": "code",
   "execution_count": 12,
   "id": "6b145ccc",
   "metadata": {},
   "outputs": [
    {
     "data": {
      "text/plain": [
       "array([[<AxesSubplot:title={'center':'Age'}>,\n",
       "        <AxesSubplot:title={'center':'Duration'}>,\n",
       "        <AxesSubplot:title={'center':'Frequency'}>,\n",
       "        <AxesSubplot:title={'center':'Location'}>,\n",
       "        <AxesSubplot:title={'center':'Character'}>],\n",
       "       [<AxesSubplot:title={'center':'Intensity'}>,\n",
       "        <AxesSubplot:title={'center':'Nausea'}>,\n",
       "        <AxesSubplot:title={'center':'Vomit'}>,\n",
       "        <AxesSubplot:title={'center':'Phonophobia'}>,\n",
       "        <AxesSubplot:title={'center':'Photophobia'}>],\n",
       "       [<AxesSubplot:title={'center':'Visual'}>,\n",
       "        <AxesSubplot:title={'center':'Sensory'}>,\n",
       "        <AxesSubplot:title={'center':'Dysphasia'}>,\n",
       "        <AxesSubplot:title={'center':'Dysarthria'}>,\n",
       "        <AxesSubplot:title={'center':'Vertigo'}>],\n",
       "       [<AxesSubplot:title={'center':'Tinnitus'}>,\n",
       "        <AxesSubplot:title={'center':'Hypoacusis'}>,\n",
       "        <AxesSubplot:title={'center':'Diplopia'}>,\n",
       "        <AxesSubplot:title={'center':'Defect'}>,\n",
       "        <AxesSubplot:title={'center':'Ataxia'}>],\n",
       "       [<AxesSubplot:title={'center':'Conscience'}>,\n",
       "        <AxesSubplot:title={'center':'Paresthesia'}>,\n",
       "        <AxesSubplot:title={'center':'DPF'}>,\n",
       "        <AxesSubplot:title={'center':'Type'}>, <AxesSubplot:>]],\n",
       "      dtype=object)"
      ]
     },
     "execution_count": 12,
     "metadata": {},
     "output_type": "execute_result"
    },
    {
     "data": {
      "image/png": "[encoded data removed]",
      "text/plain": [
       "<Figure size 432x288 with 25 Axes>"
      ]
     },
     "metadata": {
      "needs_background": "light"
     },
     "output_type": "display_data"
    }
   ],
   "source": [
    "data.hist()"
   ]
  },
  {
   "cell_type": "code",
   "execution_count": 13,
   "id": "de130c20",
   "metadata": {},
   "outputs": [
    {
     "data": {
      "text/plain": [
       "Age             0.819051\n",
       "Duration        0.798146\n",
       "Frequency       0.968169\n",
       "Location       -1.126193\n",
       "Character      -0.812426\n",
       "Intensity      -1.697076\n",
       "Nausea         -8.808753\n",
       "Vomit           0.762329\n",
       "Phonophobia    -6.463788\n",
       "Photophobia    -6.882981\n",
       "Visual          0.034794\n",
       "Sensory         1.857410\n",
       "Dysphasia       4.887189\n",
       "Dysarthria     20.000000\n",
       "Vertigo         2.276332\n",
       "Tinnitus        3.719431\n",
       "Hypoacusis      8.010163\n",
       "Diplopia       14.088736\n",
       "Defect          8.010163\n",
       "Ataxia          0.000000\n",
       "Conscience      7.387124\n",
       "Paresthesia    11.459712\n",
       "DPF             0.367357\n",
       "Type           -1.084781\n",
       "dtype: float64"
      ]
     },
     "execution_count": 13,
     "metadata": {},
     "output_type": "execute_result"
    }
   ],
   "source": [
    "data.skew()"
   ]
  },
  {
   "cell_type": "markdown",
   "id": "bc0fac7a",
   "metadata": {},
   "source": [
    "# Classes of dependent variable"
   ]
  },
  {
   "cell_type": "code",
   "execution_count": 14,
   "id": "556abe93",
   "metadata": {},
   "outputs": [
    {
     "data": {
      "text/plain": [
       "array([5, 2, 0, 4, 1, 3, 6])"
      ]
     },
     "execution_count": 14,
     "metadata": {},
     "output_type": "execute_result"
    }
   ],
   "source": [
    "data[\"Type\"].unique()"
   ]
  },
  {
   "cell_type": "markdown",
   "id": "3fd74e11",
   "metadata": {},
   "source": [
    "# Detecting Duplicate Columns"
   ]
  },
  {
   "cell_type": "code",
   "execution_count": 15,
   "id": "88a26abc",
   "metadata": {},
   "outputs": [
    {
     "data": {
      "text/plain": [
       "6"
      ]
     },
     "execution_count": 15,
     "metadata": {},
     "output_type": "execute_result"
    }
   ],
   "source": [
    "data.duplicated().sum()"
   ]
  },
  {
   "cell_type": "markdown",
   "id": "c2eb038b",
   "metadata": {},
   "source": [
    "# Dropping dublicates"
   ]
  },
  {
   "cell_type": "code",
   "execution_count": 16,
   "id": "4db52002",
   "metadata": {},
   "outputs": [
    {
     "data": {
      "text/html": [
       "<div>\n",
       "<style scoped>\n",
       "    .dataframe tbody tr th:only-of-type {\n",
       "        vertical-align: middle;\n",
       "    }\n",
       "\n",
       "    .dataframe tbody tr th {\n",
       "        vertical-align: top;\n",
       "    }\n",
       "\n",
       "    .dataframe thead th {\n",
       "        text-align: right;\n",
       "    }\n",
       "</style>\n",
       "<table border=\"1\" class=\"dataframe\">\n",
       "  <thead>\n",
       "    <tr style=\"text-align: right;\">\n",
       "      <th></th>\n",
       "      <th>Age</th>\n",
       "      <th>Duration</th>\n",
       "      <th>Frequency</th>\n",
       "      <th>Location</th>\n",
       "      <th>Character</th>\n",
       "      <th>Intensity</th>\n",
       "      <th>Nausea</th>\n",
       "      <th>Vomit</th>\n",
       "      <th>Phonophobia</th>\n",
       "      <th>Photophobia</th>\n",
       "      <th>...</th>\n",
       "      <th>Vertigo</th>\n",
       "      <th>Tinnitus</th>\n",
       "      <th>Hypoacusis</th>\n",
       "      <th>Diplopia</th>\n",
       "      <th>Defect</th>\n",
       "      <th>Ataxia</th>\n",
       "      <th>Conscience</th>\n",
       "      <th>Paresthesia</th>\n",
       "      <th>DPF</th>\n",
       "      <th>Type</th>\n",
       "    </tr>\n",
       "  </thead>\n",
       "  <tbody>\n",
       "    <tr>\n",
       "      <th>0</th>\n",
       "      <td>30</td>\n",
       "      <td>1</td>\n",
       "      <td>5</td>\n",
       "      <td>1</td>\n",
       "      <td>1</td>\n",
       "      <td>2</td>\n",
       "      <td>1</td>\n",
       "      <td>0</td>\n",
       "      <td>1</td>\n",
       "      <td>1</td>\n",
       "      <td>...</td>\n",
       "      <td>0</td>\n",
       "      <td>0</td>\n",
       "      <td>0</td>\n",
       "      <td>0</td>\n",
       "      <td>0</td>\n",
       "      <td>0</td>\n",
       "      <td>0</td>\n",
       "      <td>0</td>\n",
       "      <td>0</td>\n",
       "      <td>5</td>\n",
       "    </tr>\n",
       "    <tr>\n",
       "      <th>1</th>\n",
       "      <td>50</td>\n",
       "      <td>3</td>\n",
       "      <td>5</td>\n",
       "      <td>1</td>\n",
       "      <td>1</td>\n",
       "      <td>3</td>\n",
       "      <td>1</td>\n",
       "      <td>1</td>\n",
       "      <td>1</td>\n",
       "      <td>1</td>\n",
       "      <td>...</td>\n",
       "      <td>1</td>\n",
       "      <td>0</td>\n",
       "      <td>0</td>\n",
       "      <td>0</td>\n",
       "      <td>0</td>\n",
       "      <td>0</td>\n",
       "      <td>0</td>\n",
       "      <td>0</td>\n",
       "      <td>0</td>\n",
       "      <td>5</td>\n",
       "    </tr>\n",
       "    <tr>\n",
       "      <th>2</th>\n",
       "      <td>53</td>\n",
       "      <td>2</td>\n",
       "      <td>1</td>\n",
       "      <td>1</td>\n",
       "      <td>1</td>\n",
       "      <td>2</td>\n",
       "      <td>1</td>\n",
       "      <td>1</td>\n",
       "      <td>1</td>\n",
       "      <td>1</td>\n",
       "      <td>...</td>\n",
       "      <td>0</td>\n",
       "      <td>0</td>\n",
       "      <td>0</td>\n",
       "      <td>0</td>\n",
       "      <td>0</td>\n",
       "      <td>0</td>\n",
       "      <td>0</td>\n",
       "      <td>0</td>\n",
       "      <td>0</td>\n",
       "      <td>5</td>\n",
       "    </tr>\n",
       "    <tr>\n",
       "      <th>3</th>\n",
       "      <td>45</td>\n",
       "      <td>3</td>\n",
       "      <td>5</td>\n",
       "      <td>1</td>\n",
       "      <td>1</td>\n",
       "      <td>3</td>\n",
       "      <td>1</td>\n",
       "      <td>0</td>\n",
       "      <td>1</td>\n",
       "      <td>1</td>\n",
       "      <td>...</td>\n",
       "      <td>1</td>\n",
       "      <td>0</td>\n",
       "      <td>0</td>\n",
       "      <td>0</td>\n",
       "      <td>0</td>\n",
       "      <td>0</td>\n",
       "      <td>0</td>\n",
       "      <td>0</td>\n",
       "      <td>0</td>\n",
       "      <td>5</td>\n",
       "    </tr>\n",
       "    <tr>\n",
       "      <th>4</th>\n",
       "      <td>53</td>\n",
       "      <td>1</td>\n",
       "      <td>1</td>\n",
       "      <td>1</td>\n",
       "      <td>1</td>\n",
       "      <td>2</td>\n",
       "      <td>1</td>\n",
       "      <td>0</td>\n",
       "      <td>1</td>\n",
       "      <td>1</td>\n",
       "      <td>...</td>\n",
       "      <td>0</td>\n",
       "      <td>0</td>\n",
       "      <td>0</td>\n",
       "      <td>0</td>\n",
       "      <td>0</td>\n",
       "      <td>0</td>\n",
       "      <td>0</td>\n",
       "      <td>0</td>\n",
       "      <td>1</td>\n",
       "      <td>5</td>\n",
       "    </tr>\n",
       "    <tr>\n",
       "      <th>...</th>\n",
       "      <td>...</td>\n",
       "      <td>...</td>\n",
       "      <td>...</td>\n",
       "      <td>...</td>\n",
       "      <td>...</td>\n",
       "      <td>...</td>\n",
       "      <td>...</td>\n",
       "      <td>...</td>\n",
       "      <td>...</td>\n",
       "      <td>...</td>\n",
       "      <td>...</td>\n",
       "      <td>...</td>\n",
       "      <td>...</td>\n",
       "      <td>...</td>\n",
       "      <td>...</td>\n",
       "      <td>...</td>\n",
       "      <td>...</td>\n",
       "      <td>...</td>\n",
       "      <td>...</td>\n",
       "      <td>...</td>\n",
       "      <td>...</td>\n",
       "    </tr>\n",
       "    <tr>\n",
       "      <th>395</th>\n",
       "      <td>39</td>\n",
       "      <td>1</td>\n",
       "      <td>1</td>\n",
       "      <td>1</td>\n",
       "      <td>1</td>\n",
       "      <td>3</td>\n",
       "      <td>1</td>\n",
       "      <td>1</td>\n",
       "      <td>1</td>\n",
       "      <td>1</td>\n",
       "      <td>...</td>\n",
       "      <td>1</td>\n",
       "      <td>0</td>\n",
       "      <td>0</td>\n",
       "      <td>1</td>\n",
       "      <td>0</td>\n",
       "      <td>0</td>\n",
       "      <td>0</td>\n",
       "      <td>0</td>\n",
       "      <td>1</td>\n",
       "      <td>0</td>\n",
       "    </tr>\n",
       "    <tr>\n",
       "      <th>396</th>\n",
       "      <td>20</td>\n",
       "      <td>3</td>\n",
       "      <td>2</td>\n",
       "      <td>1</td>\n",
       "      <td>1</td>\n",
       "      <td>3</td>\n",
       "      <td>1</td>\n",
       "      <td>0</td>\n",
       "      <td>1</td>\n",
       "      <td>1</td>\n",
       "      <td>...</td>\n",
       "      <td>0</td>\n",
       "      <td>1</td>\n",
       "      <td>1</td>\n",
       "      <td>0</td>\n",
       "      <td>0</td>\n",
       "      <td>0</td>\n",
       "      <td>0</td>\n",
       "      <td>0</td>\n",
       "      <td>1</td>\n",
       "      <td>0</td>\n",
       "    </tr>\n",
       "    <tr>\n",
       "      <th>397</th>\n",
       "      <td>28</td>\n",
       "      <td>3</td>\n",
       "      <td>2</td>\n",
       "      <td>1</td>\n",
       "      <td>1</td>\n",
       "      <td>3</td>\n",
       "      <td>1</td>\n",
       "      <td>0</td>\n",
       "      <td>1</td>\n",
       "      <td>1</td>\n",
       "      <td>...</td>\n",
       "      <td>1</td>\n",
       "      <td>0</td>\n",
       "      <td>0</td>\n",
       "      <td>0</td>\n",
       "      <td>1</td>\n",
       "      <td>0</td>\n",
       "      <td>0</td>\n",
       "      <td>0</td>\n",
       "      <td>1</td>\n",
       "      <td>0</td>\n",
       "    </tr>\n",
       "    <tr>\n",
       "      <th>398</th>\n",
       "      <td>20</td>\n",
       "      <td>3</td>\n",
       "      <td>1</td>\n",
       "      <td>1</td>\n",
       "      <td>1</td>\n",
       "      <td>3</td>\n",
       "      <td>1</td>\n",
       "      <td>0</td>\n",
       "      <td>1</td>\n",
       "      <td>1</td>\n",
       "      <td>...</td>\n",
       "      <td>1</td>\n",
       "      <td>0</td>\n",
       "      <td>0</td>\n",
       "      <td>0</td>\n",
       "      <td>0</td>\n",
       "      <td>0</td>\n",
       "      <td>0</td>\n",
       "      <td>1</td>\n",
       "      <td>1</td>\n",
       "      <td>0</td>\n",
       "    </tr>\n",
       "    <tr>\n",
       "      <th>399</th>\n",
       "      <td>37</td>\n",
       "      <td>1</td>\n",
       "      <td>1</td>\n",
       "      <td>1</td>\n",
       "      <td>1</td>\n",
       "      <td>3</td>\n",
       "      <td>1</td>\n",
       "      <td>1</td>\n",
       "      <td>1</td>\n",
       "      <td>1</td>\n",
       "      <td>...</td>\n",
       "      <td>1</td>\n",
       "      <td>0</td>\n",
       "      <td>0</td>\n",
       "      <td>0</td>\n",
       "      <td>0</td>\n",
       "      <td>0</td>\n",
       "      <td>1</td>\n",
       "      <td>0</td>\n",
       "      <td>1</td>\n",
       "      <td>0</td>\n",
       "    </tr>\n",
       "  </tbody>\n",
       "</table>\n",
       "<p>394 rows × 24 columns</p>\n",
       "</div>"
      ],
      "text/plain": [
       "     Age  Duration  Frequency  Location  Character  Intensity  Nausea  Vomit  \\\n",
       "0     30         1          5         1          1          2       1      0   \n",
       "1     50         3          5         1          1          3       1      1   \n",
       "2     53         2          1         1          1          2       1      1   \n",
       "3     45         3          5         1          1          3       1      0   \n",
       "4     53         1          1         1          1          2       1      0   \n",
       "..   ...       ...        ...       ...        ...        ...     ...    ...   \n",
       "395   39         1          1         1          1          3       1      1   \n",
       "396   20         3          2         1          1          3       1      0   \n",
       "397   28         3          2         1          1          3       1      0   \n",
       "398   20         3          1         1          1          3       1      0   \n",
       "399   37         1          1         1          1          3       1      1   \n",
       "\n",
       "     Phonophobia  Photophobia  ...  Vertigo  Tinnitus  Hypoacusis  Diplopia  \\\n",
       "0              1            1  ...        0         0           0         0   \n",
       "1              1            1  ...        1         0           0         0   \n",
       "2              1            1  ...        0         0           0         0   \n",
       "3              1            1  ...        1         0           0         0   \n",
       "4              1            1  ...        0         0           0         0   \n",
       "..           ...          ...  ...      ...       ...         ...       ...   \n",
       "395            1            1  ...        1         0           0         1   \n",
       "396            1            1  ...        0         1           1         0   \n",
       "397            1            1  ...        1         0           0         0   \n",
       "398            1            1  ...        1         0           0         0   \n",
       "399            1            1  ...        1         0           0         0   \n",
       "\n",
       "     Defect  Ataxia  Conscience  Paresthesia  DPF  Type  \n",
       "0         0       0           0            0    0     5  \n",
       "1         0       0           0            0    0     5  \n",
       "2         0       0           0            0    0     5  \n",
       "3         0       0           0            0    0     5  \n",
       "4         0       0           0            0    1     5  \n",
       "..      ...     ...         ...          ...  ...   ...  \n",
       "395       0       0           0            0    1     0  \n",
       "396       0       0           0            0    1     0  \n",
       "397       1       0           0            0    1     0  \n",
       "398       0       0           0            1    1     0  \n",
       "399       0       0           1            0    1     0  \n",
       "\n",
       "[394 rows x 24 columns]"
      ]
     },
     "execution_count": 16,
     "metadata": {},
     "output_type": "execute_result"
    }
   ],
   "source": [
    " data.drop_duplicates(keep = 'first', inplace = True)\n",
    "data"
   ]
  },
  {
   "cell_type": "markdown",
   "id": "81d82b06",
   "metadata": {},
   "source": [
    "# Data Visualization"
   ]
  },
  {
   "cell_type": "code",
   "execution_count": 17,
   "id": "676ac236",
   "metadata": {},
   "outputs": [
    {
     "name": "stderr",
     "output_type": "stream",
     "text": [
      "C:\\Users\\akshi\\anaconda3\\lib\\site-packages\\seaborn\\_decorators.py:36: FutureWarning: Pass the following variable as a keyword arg: x. From version 0.12, the only valid positional argument will be `data`, and passing other arguments without an explicit keyword will result in an error or misinterpretation.\n",
      "  warnings.warn(\n"
     ]
    },
    {
     "data": {
      "text/plain": [
       "<AxesSubplot:ylabel='count'>"
      ]
     },
     "execution_count": 17,
     "metadata": {},
     "output_type": "execute_result"
    },
    {
     "data": {
      "image/png": "[encoded data removed]",
      "text/plain": [
       "<Figure size 432x288 with 1 Axes>"
      ]
     },
     "metadata": {
      "needs_background": "light"
     },
     "output_type": "display_data"
    }
   ],
   "source": [
    "import seaborn as sns\n",
    "sns.countplot(data.dtypes.map(str))"
   ]
  },
  {
   "cell_type": "code",
   "execution_count": 18,
   "id": "132d9d44",
   "metadata": {},
   "outputs": [
    {
     "name": "stderr",
     "output_type": "stream",
     "text": [
      "C:\\Users\\akshi\\anaconda3\\lib\\site-packages\\seaborn\\_decorators.py:36: FutureWarning: Pass the following variable as a keyword arg: x. From version 0.12, the only valid positional argument will be `data`, and passing other arguments without an explicit keyword will result in an error or misinterpretation.\n",
      "  warnings.warn(\n"
     ]
    },
    {
     "data": {
      "text/plain": [
       "<AxesSubplot:xlabel='Type', ylabel='count'>"
      ]
     },
     "execution_count": 18,
     "metadata": {},
     "output_type": "execute_result"
    },
    {
     "data": {
      "image/png": "[encoded data removed]",
      "text/plain": [
       "<Figure size 432x288 with 1 Axes>"
      ]
     },
     "metadata": {
      "needs_background": "light"
     },
     "output_type": "display_data"
    }
   ],
   "source": [
    "sns.countplot(data[\"Type\"])    # Check Balancing of data "
   ]
  },
  {
   "cell_type": "code",
   "execution_count": 19,
   "id": "6d558d78",
   "metadata": {},
   "outputs": [
    {
     "name": "stderr",
     "output_type": "stream",
     "text": [
      "C:\\Users\\akshi\\anaconda3\\lib\\site-packages\\seaborn\\_decorators.py:36: FutureWarning: Pass the following variable as a keyword arg: x. From version 0.12, the only valid positional argument will be `data`, and passing other arguments without an explicit keyword will result in an error or misinterpretation.\n",
      "  warnings.warn(\n"
     ]
    },
    {
     "data": {
      "text/plain": [
       "<AxesSubplot:xlabel='Age', ylabel='count'>"
      ]
     },
     "execution_count": 19,
     "metadata": {},
     "output_type": "execute_result"
    },
    {
     "data": {
      "image/png": "[encoded data removed]",
      "text/plain": [
       "<Figure size 432x288 with 1 Axes>"
      ]
     },
     "metadata": {
      "needs_background": "light"
     },
     "output_type": "display_data"
    }
   ],
   "source": [
    "sns.countplot(data[\"Age\"])"
   ]
  },
  {
   "cell_type": "code",
   "execution_count": 20,
   "id": "acf55f25",
   "metadata": {},
   "outputs": [
    {
     "name": "stderr",
     "output_type": "stream",
     "text": [
      "C:\\Users\\akshi\\anaconda3\\lib\\site-packages\\seaborn\\_decorators.py:36: FutureWarning: Pass the following variable as a keyword arg: x. From version 0.12, the only valid positional argument will be `data`, and passing other arguments without an explicit keyword will result in an error or misinterpretation.\n",
      "  warnings.warn(\n"
     ]
    },
    {
     "data": {
      "text/plain": [
       "<AxesSubplot:xlabel='Duration', ylabel='count'>"
      ]
     },
     "execution_count": 20,
     "metadata": {},
     "output_type": "execute_result"
    },
    {
     "data": {
      "image/png": "[encoded data removed]",
      "text/plain": [
       "<Figure size 432x288 with 1 Axes>"
      ]
     },
     "metadata": {
      "needs_background": "light"
     },
     "output_type": "display_data"
    }
   ],
   "source": [
    "sns.countplot(data[\"Duration\"])"
   ]
  },
  {
   "cell_type": "code",
   "execution_count": 21,
   "id": "49f18968",
   "metadata": {},
   "outputs": [
    {
     "name": "stderr",
     "output_type": "stream",
     "text": [
      "C:\\Users\\akshi\\anaconda3\\lib\\site-packages\\seaborn\\_decorators.py:36: FutureWarning: Pass the following variable as a keyword arg: x. From version 0.12, the only valid positional argument will be `data`, and passing other arguments without an explicit keyword will result in an error or misinterpretation.\n",
      "  warnings.warn(\n"
     ]
    },
    {
     "data": {
      "text/plain": [
       "<AxesSubplot:xlabel='Frequency', ylabel='count'>"
      ]
     },
     "execution_count": 21,
     "metadata": {},
     "output_type": "execute_result"
    },
    {
     "data": {
      "image/png": "[encoded data removed]",
      "text/plain": [
       "<Figure size 432x288 with 1 Axes>"
      ]
     },
     "metadata": {
      "needs_background": "light"
     },
     "output_type": "display_data"
    }
   ],
   "source": [
    "sns.countplot(data[\"Frequency\"])"
   ]
  },
  {
   "cell_type": "code",
   "execution_count": 22,
   "id": "b6cb006b",
   "metadata": {},
   "outputs": [
    {
     "name": "stderr",
     "output_type": "stream",
     "text": [
      "C:\\Users\\akshi\\anaconda3\\lib\\site-packages\\seaborn\\_decorators.py:36: FutureWarning: Pass the following variable as a keyword arg: x. From version 0.12, the only valid positional argument will be `data`, and passing other arguments without an explicit keyword will result in an error or misinterpretation.\n",
      "  warnings.warn(\n"
     ]
    },
    {
     "data": {
      "text/plain": [
       "<AxesSubplot:xlabel='Intensity', ylabel='count'>"
      ]
     },
     "execution_count": 22,
     "metadata": {},
     "output_type": "execute_result"
    },
    {
     "data": {
      "image/png": "[encoded data removed]",
      "text/plain": [
       "<Figure size 432x288 with 1 Axes>"
      ]
     },
     "metadata": {
      "needs_background": "light"
     },
     "output_type": "display_data"
    }
   ],
   "source": [
    "sns.countplot(data[\"Intensity\"])"
   ]
  },
  {
   "cell_type": "code",
   "execution_count": 23,
   "id": "b8f59232",
   "metadata": {},
   "outputs": [
    {
     "data": {
      "text/plain": [
       "<AxesSubplot:xlabel='Frequency', ylabel='Count'>"
      ]
     },
     "execution_count": 23,
     "metadata": {},
     "output_type": "execute_result"
    },
    {
     "data": {
      "image/png": "[encoded data removed]",
      "text/plain": [
       "<Figure size 432x288 with 1 Axes>"
      ]
     },
     "metadata": {
      "needs_background": "light"
     },
     "output_type": "display_data"
    }
   ],
   "source": [
    "sns.histplot(data[\"Frequency\"])"
   ]
  },
  {
   "cell_type": "markdown",
   "id": "74664e0b",
   "metadata": {},
   "source": [
    "# Outlier Detection using inter Quantile Range "
   ]
  },
  {
   "cell_type": "code",
   "execution_count": 24,
   "id": "c08e7074",
   "metadata": {},
   "outputs": [
    {
     "name": "stdout",
     "output_type": "stream",
     "text": [
      "outlier counter of the all features\n"
     ]
    },
    {
     "data": {
      "text/plain": [
       "Age             4\n",
       "Duration        0\n",
       "Frequency       1\n",
       "Location       29\n",
       "Character      31\n",
       "Intensity      20\n",
       "Nausea          5\n",
       "Vomit           0\n",
       "Phonophobia     9\n",
       "Photophobia     8\n",
       "Visual          9\n",
       "Sensory        89\n",
       "Dysphasia      15\n",
       "Dysarthria      1\n",
       "Vertigo        50\n",
       "Tinnitus       24\n",
       "Hypoacusis      6\n",
       "Diplopia        2\n",
       "Defect          6\n",
       "Ataxia          0\n",
       "Conscience      7\n",
       "Paresthesia     3\n",
       "DPF             0\n",
       "Type            0\n",
       "dtype: int64"
      ]
     },
     "execution_count": 24,
     "metadata": {},
     "output_type": "execute_result"
    }
   ],
   "source": [
    "Q1=data.quantile(0.25)\n",
    "Q3=data.quantile(0.75)\n",
    "IQR=Q3-Q1\n",
    "IQR\n",
    "print(\"outlier counter of the all features\")\n",
    "((data<(Q1-1.5*IQR))|(data>(Q3+1.5*IQR))).sum()"
   ]
  },
  {
   "cell_type": "markdown",
   "id": "58f11b70",
   "metadata": {},
   "source": [
    "## Check Skewness of the data"
   ]
  },
  {
   "cell_type": "code",
   "execution_count": 25,
   "id": "12f976bd",
   "metadata": {},
   "outputs": [
    {
     "data": {
      "text/plain": [
       "Dysarthria     19.849433\n",
       "Diplopia       13.981858\n",
       "Paresthesia    11.372110\n",
       "Defect          7.947494\n",
       "Hypoacusis      7.947494\n",
       "Conscience      7.328877\n",
       "Dysphasia       4.846123\n",
       "Tinnitus        3.685767\n",
       "Vertigo         2.250305\n",
       "Sensory         1.833162\n",
       "Frequency       0.973740\n",
       "Age             0.817823\n",
       "Duration        0.774982\n",
       "Vomit           0.750744\n",
       "DPF             0.373164\n",
       "Visual          0.049236\n",
       "Ataxia          0.000000\n",
       "Character      -0.802794\n",
       "Type           -1.061461\n",
       "Location       -1.113391\n",
       "Intensity      -1.707508\n",
       "Phonophobia    -6.412015\n",
       "Photophobia    -6.828282\n",
       "Nausea         -8.740368\n",
       "dtype: float64"
      ]
     },
     "execution_count": 25,
     "metadata": {},
     "output_type": "execute_result"
    }
   ],
   "source": [
    "skew=data.skew().sort_values(ascending=False)\n",
    "skew"
   ]
  },
  {
   "cell_type": "markdown",
   "id": "d61a4f9a",
   "metadata": {},
   "source": [
    "## Check the distribution of the data"
   ]
  },
  {
   "cell_type": "code",
   "execution_count": 26,
   "id": "0ecb102f",
   "metadata": {},
   "outputs": [
    {
     "data": {
      "text/plain": [
       "Dysarthria     394.000000\n",
       "Diplopia       194.479553\n",
       "Paresthesia    127.974477\n",
       "Nausea          74.773581\n",
       "Defect          61.474689\n",
       "Hypoacusis      61.474689\n",
       "Conscience      51.976250\n",
       "Photophobia     44.853098\n",
       "Phonophobia     39.313477\n",
       "Dysphasia       21.594504\n",
       "Tinnitus        11.643963\n",
       "Location        10.503276\n",
       "Character        9.716527\n",
       "Vertigo          3.079480\n",
       "Intensity        2.864697\n",
       "Sensory          2.064884\n",
       "Age              0.086788\n",
       "Ataxia           0.000000\n",
       "Type            -0.265528\n",
       "Frequency       -0.297291\n",
       "Visual          -0.479816\n",
       "Duration        -0.906276\n",
       "Vomit           -1.443739\n",
       "DPF             -1.870268\n",
       "dtype: float64"
      ]
     },
     "execution_count": 26,
     "metadata": {},
     "output_type": "execute_result"
    }
   ],
   "source": [
    "kurtosis=data.kurtosis().sort_values(ascending=False)\n",
    "kurtosis"
   ]
  },
  {
   "cell_type": "markdown",
   "id": "01ca97af",
   "metadata": {},
   "source": [
    "## Delete irrelevant feature"
   ]
  },
  {
   "cell_type": "code",
   "execution_count": 27,
   "id": "183f70b8",
   "metadata": {},
   "outputs": [],
   "source": [
    "del data[\"Ataxia\"]"
   ]
  },
  {
   "cell_type": "markdown",
   "id": "fc687cac",
   "metadata": {},
   "source": [
    "# Data Imbalance (SMOTE)"
   ]
  },
  {
   "cell_type": "code",
   "execution_count": 28,
   "id": "de53d497",
   "metadata": {},
   "outputs": [],
   "source": [
    "from imblearn.over_sampling import SMOTE\n",
    "r1= SMOTE()\n",
    "x_data,y_data=r1.fit_resample(x,y)"
   ]
  },
  {
   "cell_type": "code",
   "execution_count": 29,
   "id": "f31543ae",
   "metadata": {},
   "outputs": [
    {
     "name": "stdout",
     "output_type": "stream",
     "text": [
      "Counter({5: 247, 2: 247, 0: 247, 4: 247, 1: 247, 3: 247, 6: 247})\n"
     ]
    }
   ],
   "source": [
    "print(Counter(y_data))"
   ]
  },
  {
   "cell_type": "markdown",
   "id": "e84aee67",
   "metadata": {},
   "source": [
    "# Feature Scaling "
   ]
  },
  {
   "cell_type": "code",
   "execution_count": 30,
   "id": "57140641",
   "metadata": {},
   "outputs": [
    {
     "name": "stdout",
     "output_type": "stream",
     "text": [
      "x_scaled :  [[ 0.10762575 -0.70993907  2.03040785 ... -0.10256785 -0.059011\n",
      "  -0.81197846]\n",
      " [ 1.9872714   2.21961857  2.03040785 ... -0.10256785 -0.059011\n",
      "  -0.81197846]\n",
      " [ 2.26921824  0.75483975 -0.64075454 ... -0.10256785 -0.059011\n",
      "  -0.81197846]\n",
      " ...\n",
      " [-0.92617936  0.75483975  1.36261725 ... -0.10256785 -0.059011\n",
      "  -0.81197846]\n",
      " [-0.83219708  2.21961857  2.03040785 ... -0.10256785 -0.059011\n",
      "   1.23155976]\n",
      " [-0.92617936  0.75483975  1.36261725 ... -0.10256785 -0.059011\n",
      "  -0.81197846]]\n"
     ]
    }
   ],
   "source": [
    "from sklearn.preprocessing import StandardScaler\n",
    "s=StandardScaler()\n",
    "x_scaled=s.fit_transform(x_data)\n",
    "print(\"x_scaled : \",x_scaled)"
   ]
  },
  {
   "cell_type": "code",
   "execution_count": 31,
   "id": "27919f31",
   "metadata": {},
   "outputs": [
    {
     "data": {
      "text/plain": [
       "array([[ 0.10762575],\n",
       "       [-0.70993907],\n",
       "       [ 2.03040785],\n",
       "       ...,\n",
       "       [-0.10256785],\n",
       "       [-0.059011  ],\n",
       "       [-0.81197846]])"
      ]
     },
     "execution_count": 31,
     "metadata": {},
     "output_type": "execute_result"
    }
   ],
   "source": [
    "x_scaled.reshape(-1,1)"
   ]
  },
  {
   "cell_type": "markdown",
   "id": "604664cf",
   "metadata": {},
   "source": [
    "# Split the data"
   ]
  },
  {
   "cell_type": "code",
   "execution_count": 32,
   "id": "43cb5055",
   "metadata": {},
   "outputs": [],
   "source": [
    "from sklearn.model_selection import train_test_split\n",
    "x_train,x_test,y_train,y_test=train_test_split(x_data,y_data,test_size=0.20,random_state=100)"
   ]
  },
  {
   "cell_type": "markdown",
   "id": "7b78e496",
   "metadata": {},
   "source": [
    "# Logistic Regression for Prediction"
   ]
  },
  {
   "cell_type": "code",
   "execution_count": 33,
   "id": "c238bd3b",
   "metadata": {},
   "outputs": [
    {
     "name": "stdout",
     "output_type": "stream",
     "text": [
      "[2 4 3 0 3 1 2 3 1 4 4 3 2 1 6 0 4 2 3 3 1 4 0 5 5 4 3 5 5 5 6 2 1 3 4 0 6\n",
      " 6 1 2 1 2 5 6 4 1 2 1 6 6 4 5 3 2 3 5 1 0 1 0 3 2 6 5 4 4 6 6 2 6 6 1 1 5\n",
      " 5 0 2 4 0 3 5 2 0 1 0 5 1 4 0 4 3 4 3 4 3 1 6 1 5 5 0 6 2 3 6 1 4 6 0 5 6\n",
      " 6 3 3 4 2 3 4 1 1 1 4 6 3 0 3 2 6 4 6 4 3 4 5 4 6 6 0 0 5 3 4 2 0 3 4 4 4\n",
      " 6 5 2 0 3 1 2 5 6 5 2 0 6 3 4 2 4 6 4 6 2 3 6 4 2 2 5 5 4 6 5 6 5 6 1 0 3\n",
      " 4 2 1 6 5 2 2 2 2 0 0 3 0 5 5 3 0 3 0 6 1 2 5 6 6 1 3 0 6 5 5 3 4 4 0 4 5\n",
      " 0 6 4 0 0 4 1 1 0 5 6 1 0 1 3 1 1 1 4 1 6 1 1 3 5 2 2 4 0 2 6 2 2 3 1 0 2\n",
      " 0 1 0 2 1 6 0 1 4 6 4 2 2 5 6 4 4 2 0 3 2 1 2 5 3 0 2 3 6 3 0 2 2 3 6 5 4\n",
      " 6 4 1 6 5 2 4 5 3 2 4 5 2 6 3 4 4 4 0 4 1 3 1 5 4 6 3 5 6 6 2 4 2 3 6 1 2\n",
      " 1 0 0 0 4 2 4 2 2 4 5 6 6]\n",
      "87.57225433526011\n"
     ]
    },
    {
     "name": "stderr",
     "output_type": "stream",
     "text": [
      "C:\\Users\\akshi\\anaconda3\\lib\\site-packages\\sklearn\\linear_model\\_logistic.py:444: ConvergenceWarning: lbfgs failed to converge (status=1):\n",
      "STOP: TOTAL NO. of ITERATIONS REACHED LIMIT.\n",
      "\n",
      "Increase the number of iterations (max_iter) or scale the data as shown in:\n",
      "    https://scikit-learn.org/stable/modules/preprocessing.html\n",
      "Please also refer to the documentation for alternative solver options:\n",
      "    https://scikit-learn.org/stable/modules/linear_model.html#logistic-regression\n",
      "  n_iter_i = _check_optimize_result(\n"
     ]
    }
   ],
   "source": [
    "from sklearn.linear_model import LogisticRegression\n",
    "l1=LogisticRegression()\n",
    "l1.fit(x_train,y_train)\n",
    "y_pred=l1.predict(x_test)\n",
    "print(y_pred)\n",
    "y_score=accuracy_score(y_pred,y_test)*100\n",
    "print(y_score)"
   ]
  },
  {
   "cell_type": "markdown",
   "id": "64ee6d99",
   "metadata": {},
   "source": [
    "# Use Cross Validation "
   ]
  },
  {
   "cell_type": "code",
   "execution_count": 34,
   "id": "e521d936",
   "metadata": {},
   "outputs": [
    {
     "name": "stdout",
     "output_type": "stream",
     "text": [
      "KFold(n_splits=5, random_state=100, shuffle=True)\n"
     ]
    }
   ],
   "source": [
    "# Model Imbalancing--> Cross_validation\n",
    "from sklearn.model_selection import KFold\n",
    "kf=KFold(n_splits=5,random_state=100,shuffle=True)\n",
    "kf.get_n_splits(x_scaled)\n",
    "print(kf)"
   ]
  },
  {
   "cell_type": "markdown",
   "id": "fbb16def",
   "metadata": {},
   "source": [
    "# Logistic Regression for Prediction"
   ]
  },
  {
   "cell_type": "code",
   "execution_count": 35,
   "id": "ea2efaeb",
   "metadata": {},
   "outputs": [
    {
     "name": "stdout",
     "output_type": "stream",
     "text": [
      "[2 4 3 0 3 1 2 3 1 4 4 3 2 1 6 0 4 2 3 3 1 4 0 5 5 4 3 5 5 5 6 2 1 3 4 0 6\n",
      " 6 1 2 1 2 5 6 4 1 2 1 6 6 4 5 3 2 3 5 1 0 1 0 3 2 6 5 4 4 6 6 2 6 6 1 1 5\n",
      " 5 0 2 4 0 3 5 2 0 1 0 5 1 4 0 4 3 4 3 4 3 1 6 1 5 5 0 6 2 3 6 1 4 6 0 5 6\n",
      " 6 3 3 4 2 3 4 1 1 1 4 6 3 0 3 2 6 4 6 4 3 4 5 4 6 6 0 0 5 3 4 2 0 3 4 4 4\n",
      " 6 5 2 0 3 1 2 5 6 5 2 0 6 3 4 2 4 6 4 6 2 3 6 4 2 2 5 5 4 6 5 6 5 6 1 0 3\n",
      " 4 2 1 6 5 2 2 2 2 0 0 3 0 5 5 3 0 3 0 6 1 2 5 6 6 1 3 0 6 5 5 3 4 4 0 4 5\n",
      " 0 6 4 0 0 4 1 1 0 5 6 1 0 1 3 1 1 1 4 1 6 1 1 3 5 2 2 4 0 2 6 2 2 3 1 0 2\n",
      " 0 1 0 2 1 6 0 1 4 6 4 2 2 5 6 4 4 2 0 3 2 1 2 5 3 0 2 3 6 3 0 2 2 3 6 5 4\n",
      " 6 4 1 6 5 2 4 5 3 2 4 5 2 6 3 4 4 4 0 4 1 3 1 5 4 6 3 5 6 6 2 4 2 3 6 1 2\n",
      " 1 0 0 0 4 2 4 2 2 4 5 6 6]\n",
      "87.57225433526011\n"
     ]
    },
    {
     "name": "stderr",
     "output_type": "stream",
     "text": [
      "C:\\Users\\akshi\\anaconda3\\lib\\site-packages\\sklearn\\linear_model\\_logistic.py:444: ConvergenceWarning: lbfgs failed to converge (status=1):\n",
      "STOP: TOTAL NO. of ITERATIONS REACHED LIMIT.\n",
      "\n",
      "Increase the number of iterations (max_iter) or scale the data as shown in:\n",
      "    https://scikit-learn.org/stable/modules/preprocessing.html\n",
      "Please also refer to the documentation for alternative solver options:\n",
      "    https://scikit-learn.org/stable/modules/linear_model.html#logistic-regression\n",
      "  n_iter_i = _check_optimize_result(\n"
     ]
    }
   ],
   "source": [
    "from sklearn.linear_model import LogisticRegression\n",
    "l1=LogisticRegression()\n",
    "l1.fit(x_train,y_train)\n",
    "y_pred=l1.predict(x_test)\n",
    "print(y_pred)\n",
    "y_score=accuracy_score(y_pred,y_test)*100\n",
    "print(y_score)"
   ]
  },
  {
   "cell_type": "markdown",
   "id": "77d8b3bc",
   "metadata": {},
   "source": [
    "# KNN"
   ]
  },
  {
   "cell_type": "code",
   "execution_count": 36,
   "id": "8e9510db",
   "metadata": {},
   "outputs": [
    {
     "name": "stdout",
     "output_type": "stream",
     "text": [
      "KNN KNeighborsClassifier()\n",
      "Accuracy 87.57225433526011\n"
     ]
    }
   ],
   "source": [
    "from sklearn.neighbors import KNeighborsClassifier\n",
    "k1=KNeighborsClassifier()\n",
    "k1.fit(x_train,y_train)\n",
    "k1_pred=k1.predict(x_test)\n",
    "print(\"KNN\",k1)\n",
    "k1_score=accuracy_score(y_test,y_pred)*100\n",
    "print(\"Accuracy\",k1_score)"
   ]
  },
  {
   "cell_type": "markdown",
   "id": "d274d4de",
   "metadata": {},
   "source": [
    "# SVM"
   ]
  },
  {
   "cell_type": "code",
   "execution_count": 37,
   "id": "c1b9c393",
   "metadata": {},
   "outputs": [
    {
     "name": "stdout",
     "output_type": "stream",
     "text": [
      "Predict [2 1 3 0 1 1 2 0 1 1 4 0 2 1 6 0 4 2 3 1 1 1 0 0 1 4 0 0 0 0 6 2 1 3 4 0 6\n",
      " 6 1 2 1 0 4 6 4 1 2 1 6 6 0 0 0 2 0 0 1 0 1 0 3 2 6 0 4 1 6 6 2 6 6 1 1 0\n",
      " 5 1 0 4 0 1 0 2 1 0 0 1 1 4 0 4 0 1 0 4 3 1 6 1 3 0 1 6 0 0 6 1 4 6 0 0 6\n",
      " 6 3 3 4 2 3 4 1 1 1 4 6 0 0 0 2 6 1 6 4 3 4 0 1 6 6 0 0 0 0 4 2 1 1 4 4 4\n",
      " 6 0 2 4 3 1 2 0 6 0 2 0 6 3 1 2 4 6 4 6 1 0 6 4 0 2 0 1 4 6 2 6 0 6 1 0 0\n",
      " 4 2 1 6 2 2 2 0 2 0 1 3 1 0 3 2 0 0 0 6 1 0 0 6 6 1 0 0 6 0 1 1 4 1 0 1 0\n",
      " 0 6 4 1 0 4 1 1 0 0 6 1 0 1 1 1 1 1 4 2 6 1 1 3 3 2 2 4 1 0 6 2 1 0 1 1 0\n",
      " 0 1 0 1 1 6 0 1 1 6 4 0 3 5 6 4 1 0 0 0 1 1 0 0 1 0 1 2 6 3 1 1 2 1 6 0 4\n",
      " 6 1 1 6 1 2 4 0 0 1 4 0 2 6 0 4 4 4 0 4 1 3 1 0 4 6 1 3 6 6 2 4 2 3 6 1 1\n",
      " 1 0 0 4 4 2 4 0 2 1 1 6 6]\n",
      "Accuracy 63.005780346820806\n"
     ]
    }
   ],
   "source": [
    "from sklearn.svm import SVC\n",
    "s1=SVC()\n",
    "s1.fit(x_train,y_train)\n",
    "s1_pred=s1.predict(x_test)\n",
    "print(\"Predict\",s1_pred)\n",
    "s1_score=accuracy_score(y_test,s1_pred)*100\n",
    "print(\"Accuracy\",s1_score)"
   ]
  },
  {
   "cell_type": "markdown",
   "id": "425dd049",
   "metadata": {},
   "source": [
    "# Ensemble technique\n",
    "# Voting classifier"
   ]
  },
  {
   "cell_type": "code",
   "execution_count": 38,
   "id": "0f674970",
   "metadata": {},
   "outputs": [
    {
     "name": "stderr",
     "output_type": "stream",
     "text": [
      "C:\\Users\\akshi\\anaconda3\\lib\\site-packages\\sklearn\\linear_model\\_logistic.py:444: ConvergenceWarning: lbfgs failed to converge (status=1):\n",
      "STOP: TOTAL NO. of ITERATIONS REACHED LIMIT.\n",
      "\n",
      "Increase the number of iterations (max_iter) or scale the data as shown in:\n",
      "    https://scikit-learn.org/stable/modules/preprocessing.html\n",
      "Please also refer to the documentation for alternative solver options:\n",
      "    https://scikit-learn.org/stable/modules/linear_model.html#logistic-regression\n",
      "  n_iter_i = _check_optimize_result(\n"
     ]
    },
    {
     "name": "stdout",
     "output_type": "stream",
     "text": [
      "prediction [2 4 3 0 3 1 2 3 1 4 4 3 2 1 6 0 4 2 3 3 1 4 0 0 1 4 3 5 5 0 6 2 1 3 4 0 6\n",
      " 6 1 2 1 2 5 6 4 1 2 1 6 6 0 0 3 2 3 0 1 0 1 0 3 2 6 0 4 1 6 6 2 6 6 1 1 0\n",
      " 5 0 0 4 0 3 5 2 0 0 0 5 1 4 0 4 3 4 3 4 3 1 6 1 2 0 0 6 0 3 6 1 4 6 0 5 6\n",
      " 6 3 3 4 2 3 4 1 1 1 4 6 3 0 3 2 6 4 6 4 3 4 0 4 6 6 0 0 5 3 4 2 0 3 4 4 4\n",
      " 6 5 2 0 3 1 2 5 6 0 2 0 6 3 4 2 4 6 4 6 2 3 6 4 0 2 5 1 4 6 2 6 5 6 1 0 3\n",
      " 4 2 1 6 5 2 2 2 2 0 1 3 1 5 5 3 0 3 0 6 1 0 5 6 6 1 3 0 6 0 1 3 4 4 0 4 5\n",
      " 0 6 4 0 0 4 1 1 0 0 6 1 0 1 3 1 1 1 4 1 6 1 1 3 5 2 2 4 1 0 6 2 2 3 1 0 0\n",
      " 0 1 0 2 1 6 0 1 1 6 4 0 2 5 6 4 4 0 0 3 2 1 0 5 3 0 2 3 6 3 0 2 2 3 6 5 4\n",
      " 6 4 1 6 1 2 4 0 3 2 4 5 2 6 3 4 4 4 0 4 1 3 1 5 4 6 3 3 6 6 2 4 2 3 6 1 2\n",
      " 1 0 0 0 4 2 4 0 2 4 1 6 6]\n",
      "Accuracy 85.83815028901735\n"
     ]
    }
   ],
   "source": [
    "from sklearn.ensemble import VotingClassifier\n",
    "v1=VotingClassifier(estimators=[(\"Logistic\",l1),(\"KNN\",k1),(\"SVM\",s1)])\n",
    "v1.fit(x_train,y_train)\n",
    "v1_pred=v1.predict(x_test)\n",
    "print(\"prediction\",v1_pred)\n",
    "v1_score=accuracy_score(y_test,v1_pred)*100\n",
    "print(\"Accuracy\",v1_score)"
   ]
  },
  {
   "cell_type": "markdown",
   "id": "5846de1c",
   "metadata": {},
   "source": [
    "# Bagging"
   ]
  },
  {
   "cell_type": "code",
   "execution_count": 39,
   "id": "32816c07",
   "metadata": {},
   "outputs": [
    {
     "name": "stderr",
     "output_type": "stream",
     "text": [
      "C:\\Users\\akshi\\anaconda3\\lib\\site-packages\\sklearn\\linear_model\\_logistic.py:444: ConvergenceWarning: lbfgs failed to converge (status=1):\n",
      "STOP: TOTAL NO. of ITERATIONS REACHED LIMIT.\n",
      "\n",
      "Increase the number of iterations (max_iter) or scale the data as shown in:\n",
      "    https://scikit-learn.org/stable/modules/preprocessing.html\n",
      "Please also refer to the documentation for alternative solver options:\n",
      "    https://scikit-learn.org/stable/modules/linear_model.html#logistic-regression\n",
      "  n_iter_i = _check_optimize_result(\n",
      "C:\\Users\\akshi\\anaconda3\\lib\\site-packages\\sklearn\\linear_model\\_logistic.py:444: ConvergenceWarning: lbfgs failed to converge (status=1):\n",
      "STOP: TOTAL NO. of ITERATIONS REACHED LIMIT.\n",
      "\n",
      "Increase the number of iterations (max_iter) or scale the data as shown in:\n",
      "    https://scikit-learn.org/stable/modules/preprocessing.html\n",
      "Please also refer to the documentation for alternative solver options:\n",
      "    https://scikit-learn.org/stable/modules/linear_model.html#logistic-regression\n",
      "  n_iter_i = _check_optimize_result(\n",
      "C:\\Users\\akshi\\anaconda3\\lib\\site-packages\\sklearn\\linear_model\\_logistic.py:444: ConvergenceWarning: lbfgs failed to converge (status=1):\n",
      "STOP: TOTAL NO. of ITERATIONS REACHED LIMIT.\n",
      "\n",
      "Increase the number of iterations (max_iter) or scale the data as shown in:\n",
      "    https://scikit-learn.org/stable/modules/preprocessing.html\n",
      "Please also refer to the documentation for alternative solver options:\n",
      "    https://scikit-learn.org/stable/modules/linear_model.html#logistic-regression\n",
      "  n_iter_i = _check_optimize_result(\n",
      "C:\\Users\\akshi\\anaconda3\\lib\\site-packages\\sklearn\\linear_model\\_logistic.py:444: ConvergenceWarning: lbfgs failed to converge (status=1):\n",
      "STOP: TOTAL NO. of ITERATIONS REACHED LIMIT.\n",
      "\n",
      "Increase the number of iterations (max_iter) or scale the data as shown in:\n",
      "    https://scikit-learn.org/stable/modules/preprocessing.html\n",
      "Please also refer to the documentation for alternative solver options:\n",
      "    https://scikit-learn.org/stable/modules/linear_model.html#logistic-regression\n",
      "  n_iter_i = _check_optimize_result(\n"
     ]
    },
    {
     "name": "stdout",
     "output_type": "stream",
     "text": [
      "prediction [2 4 3 0 3 1 2 3 1 4 4 3 2 1 6 0 4 2 3 3 1 4 0 5 5 4 3 5 5 5 6 2 1 3 4 0 6\n",
      " 6 1 2 1 2 5 6 4 1 2 1 6 6 4 5 3 2 3 5 0 0 1 0 3 2 6 5 4 4 6 6 2 6 6 1 1 5\n",
      " 5 0 2 4 0 3 5 2 0 1 0 5 1 4 0 4 3 4 3 4 3 1 6 1 5 5 0 6 2 3 6 1 4 6 0 5 6\n",
      " 6 3 3 4 2 3 4 1 1 1 4 6 3 0 3 2 6 4 6 4 3 4 5 4 6 6 0 0 5 3 4 2 0 3 4 4 4\n",
      " 6 5 2 0 3 1 2 5 6 5 2 0 6 3 4 2 4 6 4 6 2 3 6 4 2 2 5 4 4 6 5 6 5 6 0 0 3\n",
      " 4 2 1 6 5 2 2 2 2 0 0 3 0 5 5 3 0 3 0 6 1 2 5 6 6 1 3 0 6 5 5 3 4 4 0 4 0\n",
      " 0 6 4 0 0 4 1 1 0 5 6 1 0 1 3 1 1 1 4 1 6 1 1 3 5 2 2 4 0 2 6 2 2 3 1 0 2\n",
      " 0 1 0 2 1 6 0 1 2 6 4 2 2 5 6 4 4 2 0 3 2 1 2 5 3 0 2 3 6 3 0 2 2 3 6 5 4\n",
      " 6 4 1 6 5 2 4 5 3 2 4 5 2 6 3 4 4 4 0 4 1 3 1 5 4 6 3 5 6 6 2 4 2 3 6 1 2\n",
      " 1 0 0 0 4 2 4 2 2 4 4 6 6]\n",
      "accuracy 86.9942196531792\n"
     ]
    },
    {
     "name": "stderr",
     "output_type": "stream",
     "text": [
      "C:\\Users\\akshi\\anaconda3\\lib\\site-packages\\sklearn\\linear_model\\_logistic.py:444: ConvergenceWarning: lbfgs failed to converge (status=1):\n",
      "STOP: TOTAL NO. of ITERATIONS REACHED LIMIT.\n",
      "\n",
      "Increase the number of iterations (max_iter) or scale the data as shown in:\n",
      "    https://scikit-learn.org/stable/modules/preprocessing.html\n",
      "Please also refer to the documentation for alternative solver options:\n",
      "    https://scikit-learn.org/stable/modules/linear_model.html#logistic-regression\n",
      "  n_iter_i = _check_optimize_result(\n"
     ]
    }
   ],
   "source": [
    "from sklearn.ensemble import BaggingClassifier\n",
    "b1=BaggingClassifier(base_estimator=l1,n_estimators=5,random_state=14)\n",
    "b1.fit(x_train,y_train)\n",
    "b1_pred=b1.predict(x_test)\n",
    "print(\"prediction\",b1_pred)\n",
    "b1_score=accuracy_score(y_test,b1_pred)*100\n",
    "print(\"accuracy\",b1_score)"
   ]
  },
  {
   "cell_type": "markdown",
   "id": "7442214f",
   "metadata": {},
   "source": [
    "# Random Forest"
   ]
  },
  {
   "cell_type": "code",
   "execution_count": 40,
   "id": "f9b813bb",
   "metadata": {},
   "outputs": [
    {
     "name": "stdout",
     "output_type": "stream",
     "text": [
      "predict value [2 4 3 0 3 1 2 3 1 4 4 3 2 1 6 0 4 2 3 3 1 4 0 0 4 4 3 5 5 4 6 2 1 3 4 3 6\n",
      " 6 1 2 1 3 5 6 5 1 2 1 6 6 4 5 3 2 3 5 1 0 1 0 3 2 6 5 4 5 6 6 2 6 6 0 0 0\n",
      " 5 0 0 4 0 3 0 2 0 5 0 5 0 4 0 4 3 4 3 4 3 1 6 1 5 5 0 6 3 3 6 1 4 6 5 0 6\n",
      " 6 3 3 4 2 3 5 1 1 1 4 6 3 0 3 2 6 4 6 4 3 4 0 4 6 6 0 3 5 3 5 2 0 3 4 4 4\n",
      " 6 5 2 0 3 1 2 5 6 5 2 0 6 3 4 2 4 6 5 6 2 3 6 4 0 2 5 4 4 6 5 6 5 6 1 0 3\n",
      " 5 2 1 6 5 2 2 2 2 0 1 3 4 5 5 3 0 3 0 6 1 3 5 6 6 0 3 0 6 5 4 3 5 4 0 4 5\n",
      " 0 6 4 0 0 4 1 1 0 5 6 1 0 1 3 1 1 1 4 1 6 1 1 3 5 2 2 4 0 5 6 2 2 3 1 0 0\n",
      " 0 1 0 2 1 6 0 1 2 6 4 0 3 5 6 4 4 0 0 3 2 1 3 5 3 0 2 3 6 3 0 2 2 3 6 1 5\n",
      " 6 4 1 6 5 2 4 5 3 2 5 5 2 6 3 4 4 4 0 4 1 3 1 5 4 6 3 5 6 6 2 5 2 3 6 0 2\n",
      " 0 0 0 0 4 2 4 3 2 4 4 6 6]\n",
      "Accuracy score 94.50867052023122\n"
     ]
    }
   ],
   "source": [
    "from sklearn.ensemble import RandomForestClassifier\n",
    "R=RandomForestClassifier(n_estimators=5,random_state=3)\n",
    "R.fit(x_train,y_train)\n",
    "R_pred=R.predict(x_test)\n",
    "print(\"predict value\",R_pred)\n",
    "R_score=accuracy_score(y_test,R_pred)*100\n",
    "print(\"Accuracy score\",R_score)"
   ]
  },
  {
   "cell_type": "markdown",
   "id": "1316feb1",
   "metadata": {},
   "source": [
    "# In the above analysis We use many  models there is Random forest give the more accuracy as compare to all the models so Random forest is the best model ."
   ]
  },
  {
   "cell_type": "code",
   "execution_count": null,
   "id": "f568fb0b",
   "metadata": {},
   "outputs": [],
   "source": []
  }
 ],
 "metadata": {
  "kernelspec": {
   "display_name": "Python 3",
   "language": "python",
   "name": "python3"
  },
  "language_info": {
   "codemirror_mode": {
    "name": "ipython",
    "version": 3
   },
   "file_extension": ".py",
   "mimetype": "text/x-python",
   "name": "python",
   "nbconvert_exporter": "python",
   "pygments_lexer": "ipython3",
   "version": "3.8.8"
  }
 },
 "nbformat": 4,
 "nbformat_minor": 5
}
